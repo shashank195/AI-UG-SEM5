{
 "cells": [
  {
   "cell_type": "markdown",
   "metadata": {
    "papermill": {
     "duration": 0.011659,
     "end_time": "2020-10-05T04:08:06.718467",
     "exception": false,
     "start_time": "2020-10-05T04:08:06.706808",
     "status": "completed"
    },
    "tags": []
   },
   "source": [
    "# 8 Puzzle Problem"
   ]
  },
  {
   "cell_type": "markdown",
   "metadata": {
    "papermill": {
     "duration": 0.010242,
     "end_time": "2020-10-05T04:08:06.739584",
     "exception": false,
     "start_time": "2020-10-05T04:08:06.729342",
     "status": "completed"
    },
    "tags": []
   },
   "source": [
    "BMS College of Engineering - Dr Kavitha Sooda <br />\n",
    "BMS College of Engineering - Dr Nagarathna N <br />\n",
    "BMS College of Engineering - Prof G R Asha  <br />\n",
    "##### Class 5C"
   ]
  },
  {
   "cell_type": "markdown",
   "metadata": {
    "papermill": {
     "duration": 0.010419,
     "end_time": "2020-10-05T04:08:06.760602",
     "exception": false,
     "start_time": "2020-10-05T04:08:06.750183",
     "status": "completed"
    },
    "tags": []
   },
   "source": [
    "## Objective\n",
    "\n",
    " Given a 3×3 board with 8 tiles and one empty space \n",
    " - Move the numbers around to match the final configuration using the empty spot \n",
    " - You can slide the numbers from above, below, left and right tiles into the empty space.\n",
    "\n",
    "![](https://media.geeksforgeeks.org/wp-content/uploads/puzzle8init.jpg)"
   ]
  },
  {
   "cell_type": "markdown",
   "metadata": {
    "papermill": {
     "duration": 0.010398,
     "end_time": "2020-10-05T04:08:06.782007",
     "exception": false,
     "start_time": "2020-10-05T04:08:06.771609",
     "status": "completed"
    },
    "tags": []
   },
   "source": [
    "### Iterative Deepening Depth First Search"
   ]
  },
  {
   "cell_type": "markdown",
   "metadata": {
    "papermill": {
     "duration": 0.010298,
     "end_time": "2020-10-05T04:08:06.803003",
     "exception": false,
     "start_time": "2020-10-05T04:08:06.792705",
     "status": "completed"
    },
    "tags": []
   },
   "source": [
    "Lets Start with a DFS function to traverse only to the given depth limit, where it checks if source equals target\n",
    "\n",
    "![](https://media.geeksforgeeks.org/wp-content/uploads/puzzle-1.jpg)"
   ]
  },
  {
   "cell_type": "code",
   "execution_count": 1,
   "metadata": {
    "execution": {
     "iopub.execute_input": "2020-10-05T04:08:06.833784Z",
     "iopub.status.busy": "2020-10-05T04:08:06.832792Z",
     "iopub.status.idle": "2020-10-05T04:08:06.836041Z",
     "shell.execute_reply": "2020-10-05T04:08:06.835342Z"
    },
    "papermill": {
     "duration": 0.022548,
     "end_time": "2020-10-05T04:08:06.836179",
     "exception": false,
     "start_time": "2020-10-05T04:08:06.813631",
     "status": "completed"
    },
    "tags": []
   },
   "outputs": [],
   "source": [
    "# Depth first search in search of target - Using Recursion\n",
    "\n",
    "def dfs(src,target,limit,visited_states):\n",
    "    # Base case if Target found\n",
    "    if src == target : \n",
    "        return True\n",
    "    \n",
    "    \n",
    "    # Base case if limit exceeded\n",
    "    if (limit <= 0):\n",
    "        return False \n",
    "\n",
    "    \n",
    "    \n",
    "    # Add source to visited_states\n",
    "    visited_states.append(src);\n",
    "    \n",
    "    \n",
    "    # Find possible slides up, down, left right to current empty site\n",
    "    ### Jump to possible_moves function\n",
    "    poss_moves = possible_moves(src,visited_states) \n",
    "        \n",
    "        \n",
    "        \n",
    "    # For all possible moves gotten from the possible moves function\n",
    "    # Check if src equals to new targets\n",
    "    # Return True if target found in given depth limit\n",
    "    for move in poss_moves:\n",
    "        if dfs(move, target, limit-1, visited_states): return True\n",
    "    return False"
   ]
  },
  {
   "cell_type": "code",
   "execution_count": 2,
   "metadata": {
    "execution": {
     "iopub.execute_input": "2020-10-05T04:08:06.870857Z",
     "iopub.status.busy": "2020-10-05T04:08:06.869893Z",
     "iopub.status.idle": "2020-10-05T04:08:06.872385Z",
     "shell.execute_reply": "2020-10-05T04:08:06.872921Z"
    },
    "papermill": {
     "duration": 0.0256,
     "end_time": "2020-10-05T04:08:06.873093",
     "exception": false,
     "start_time": "2020-10-05T04:08:06.847493",
     "status": "completed"
    },
    "tags": []
   },
   "outputs": [],
   "source": [
    "def possible_moves(state,visited_states): \n",
    "    # Find index of empty spot and assign it to b\n",
    "    b = state.index(-1);\n",
    "    \n",
    "    #'d' for down, 'u' for up, 'r' for right, 'l' for left - directions array\n",
    "    d = []\n",
    "                                    \n",
    "    #Add all possible direction into directions array - Hint using if statements\n",
    "    if b - 3 in range(9): \n",
    "        d.append('u')\n",
    "    if b not in [0,3,6]: \n",
    "        d.append('l')\n",
    "    if b not in [2,5,8]: \n",
    "        d.append('r')\n",
    "    if b + 3 in range(9): \n",
    "        d.append('d')\n",
    "    \n",
    "    # If direction is possible then add state to move\n",
    "    pos_moves = []\n",
    "    \n",
    "    # for all possible directions find the state if that move is played\n",
    "    ### Jump to gen function to generate all possible moves in the given directions\n",
    "    for m in d:\n",
    "        pos_moves.append(gen(state, m, b))\n",
    "    \n",
    "    # return all possible moves only if the move not in visited_states\n",
    "    return [move for move in pos_moves if move not in visited_states]\n",
    "\n",
    "\n",
    "\n"
   ]
  },
  {
   "cell_type": "code",
   "execution_count": 3,
   "metadata": {
    "execution": {
     "iopub.execute_input": "2020-10-05T04:08:06.906406Z",
     "iopub.status.busy": "2020-10-05T04:08:06.905419Z",
     "iopub.status.idle": "2020-10-05T04:08:06.908375Z",
     "shell.execute_reply": "2020-10-05T04:08:06.907765Z"
    },
    "papermill": {
     "duration": 0.024315,
     "end_time": "2020-10-05T04:08:06.908524",
     "exception": false,
     "start_time": "2020-10-05T04:08:06.884209",
     "status": "completed"
    },
    "tags": []
   },
   "outputs": [],
   "source": [
    "def gen(state, m, b): # m(move) is direction to slide, b(blank) is index of empty spot\n",
    "    # create a copy of current state to test the move\n",
    "    temp = state.copy()                              \n",
    "    \n",
    "    # if move is to slide empty spot to the left and so on\n",
    "    if m == 'u': temp[b-3] , temp[b] = temp[b], temp[b-3]\n",
    "    if m == 'l': temp[b-1] , temp[b] = temp[b], temp[b-1]\n",
    "    if m == 'r': temp[b+1] , temp[b] = temp[b], temp[b+1]\n",
    "    if m == 'd': temp[b+3] , temp[b] = temp[b], temp[b+3]   \n",
    "    \n",
    "    # return new state with tested move to later check if \"src == target\"\n",
    "    return temp"
   ]
  },
  {
   "cell_type": "markdown",
   "metadata": {
    "papermill": {
     "duration": 0.01094,
     "end_time": "2020-10-05T04:08:06.932336",
     "exception": false,
     "start_time": "2020-10-05T04:08:06.921396",
     "status": "completed"
    },
    "tags": []
   },
   "source": [
    "In the next function:\n",
    "- Start with a depth of 1 until given depth see if target is reached To find the least depth required to find target\n",
    "- Create a visited_stated array to keep a check in all visited sites \n",
    "- Call DFS function for given depth limit"
   ]
  },
  {
   "cell_type": "code",
   "execution_count": 4,
   "metadata": {
    "execution": {
     "iopub.execute_input": "2020-10-05T04:08:06.962081Z",
     "iopub.status.busy": "2020-10-05T04:08:06.961216Z",
     "iopub.status.idle": "2020-10-05T04:08:06.965208Z",
     "shell.execute_reply": "2020-10-05T04:08:06.964457Z"
    },
    "papermill": {
     "duration": 0.021699,
     "end_time": "2020-10-05T04:08:06.965330",
     "exception": false,
     "start_time": "2020-10-05T04:08:06.943631",
     "status": "completed"
    },
    "tags": []
   },
   "outputs": [],
   "source": [
    "def iddfs(src,target,depth):\n",
    "    visited_states = []\n",
    "    # Return Min depth at which the target was found\n",
    "    for i in range(1, depth+1):\n",
    "        if dfs(src, target, i, visited_states): return True\n",
    "    return False\n"
   ]
  },
  {
   "cell_type": "code",
   "execution_count": 5,
   "metadata": {
    "execution": {
     "iopub.execute_input": "2020-10-05T04:08:06.998252Z",
     "iopub.status.busy": "2020-10-05T04:08:06.997412Z",
     "iopub.status.idle": "2020-10-05T04:08:07.002098Z",
     "shell.execute_reply": "2020-10-05T04:08:07.001376Z"
    },
    "papermill": {
     "duration": 0.025403,
     "end_time": "2020-10-05T04:08:07.002223",
     "exception": false,
     "start_time": "2020-10-05T04:08:06.976820",
     "status": "completed"
    },
    "tags": []
   },
   "outputs": [
    {
     "data": {
      "text/plain": [
       "False"
      ]
     },
     "execution_count": 5,
     "metadata": {},
     "output_type": "execute_result"
    }
   ],
   "source": [
    "#Test 1\n",
    "src = [1,2,3,-1,4,5,6,7,8]\n",
    "target = [1,2,3,4,5,-1,6,7,8]         \n",
    "       \n",
    "\n",
    "\n",
    "depth = 1\n",
    "iddfs(src, target, depth) # Minimum depth should be 2"
   ]
  },
  {
   "cell_type": "code",
   "execution_count": 6,
   "metadata": {
    "execution": {
     "iopub.execute_input": "2020-10-05T04:08:07.034859Z",
     "iopub.status.busy": "2020-10-05T04:08:07.033933Z",
     "iopub.status.idle": "2020-10-05T04:08:07.039116Z",
     "shell.execute_reply": "2020-10-05T04:08:07.038393Z"
    },
    "papermill": {
     "duration": 0.024695,
     "end_time": "2020-10-05T04:08:07.039236",
     "exception": false,
     "start_time": "2020-10-05T04:08:07.014541",
     "status": "completed"
    },
    "tags": []
   },
   "outputs": [
    {
     "data": {
      "text/plain": [
       "True"
      ]
     },
     "execution_count": 6,
     "metadata": {},
     "output_type": "execute_result"
    }
   ],
   "source": [
    "# Test 2\n",
    "src = [1,2,3,-1,4,5,6,7,8] \n",
    "target=[1,2,3,6,4,5,-1,7,8]\n",
    "\n",
    "depth = 1\n",
    "iddfs(src, target, depth) # Minimum depth is 1"
   ]
  },
  {
   "cell_type": "code",
   "execution_count": 7,
   "metadata": {
    "execution": {
     "iopub.execute_input": "2020-10-05T04:08:07.071567Z",
     "iopub.status.busy": "2020-10-05T04:08:07.070694Z",
     "iopub.status.idle": "2020-10-05T04:08:07.074738Z",
     "shell.execute_reply": "2020-10-05T04:08:07.074030Z"
    },
    "papermill": {
     "duration": 0.022877,
     "end_time": "2020-10-05T04:08:07.074858",
     "exception": false,
     "start_time": "2020-10-05T04:08:07.051981",
     "status": "completed"
    },
    "tags": []
   },
   "outputs": [
    {
     "data": {
      "text/plain": [
       "True"
      ]
     },
     "execution_count": 7,
     "metadata": {},
     "output_type": "execute_result"
    }
   ],
   "source": [
    "# Test 3\n",
    "# Try to create a source and target that reaches large minimum required depth \n",
    "src = None\n",
    "target = None\n",
    "\n",
    "\n",
    "\n",
    "\n",
    "\n",
    "\n",
    "iddfs(src, target, depth) # I have reached 25 in the next cell, Lets see if u can beat that"
   ]
  },
  {
   "cell_type": "code",
   "execution_count": 8,
   "metadata": {
    "execution": {
     "iopub.execute_input": "2020-10-05T04:08:07.106922Z",
     "iopub.status.busy": "2020-10-05T04:08:07.105856Z",
     "iopub.status.idle": "2020-10-05T04:08:07.108970Z",
     "shell.execute_reply": "2020-10-05T04:08:07.108341Z"
    },
    "papermill": {
     "duration": 0.020954,
     "end_time": "2020-10-05T04:08:07.109098",
     "exception": false,
     "start_time": "2020-10-05T04:08:07.088144",
     "status": "completed"
    },
    "tags": []
   },
   "outputs": [],
   "source": [
    "# Maximum Change \n",
    "# An Experiemnt I did to try and find the maximum required depth assuming \n",
    "# that this was the biggest possible change from src to target\n",
    "\n",
    "## Uncomment to try\n",
    "# src = [1, 2, 3, 4, 5, 6, 7, 8, -1]\n",
    "# target = [-1, 1, 2, 3, 4, 5, 6, 7, 8]\n",
    "\n",
    "# for i in range(1, 100):\n",
    "#     val = iddfs(src,target,i)\n",
    "#     print(i, val)\n",
    "#     if val == True:\n",
    "#         break"
   ]
  }
 ],
 "metadata": {
  "kernelspec": {
   "display_name": "Python 3",
   "language": "python",
   "name": "python3"
  },
  "language_info": {
   "codemirror_mode": {
    "name": "ipython",
    "version": 3
   },
   "file_extension": ".py",
   "mimetype": "text/x-python",
   "name": "python",
   "nbconvert_exporter": "python",
   "pygments_lexer": "ipython3",
   "version": "3.7.6"
  },
  "papermill": {
   "duration": 5.410774,
   "end_time": "2020-10-05T04:08:07.230638",
   "environment_variables": {},
   "exception": null,
   "input_path": "__notebook__.ipynb",
   "output_path": "__notebook__.ipynb",
   "parameters": {},
   "start_time": "2020-10-05T04:08:01.819864",
   "version": "2.1.0"
  }
 },
 "nbformat": 4,
 "nbformat_minor": 4
}
