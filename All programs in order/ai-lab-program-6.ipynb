{
 "cells": [
  {
   "cell_type": "markdown",
   "metadata": {
    "papermill": {
     "duration": 0.017931,
     "end_time": "2020-11-23T05:22:34.292852",
     "exception": false,
     "start_time": "2020-11-23T05:22:34.274921",
     "status": "completed"
    },
    "tags": []
   },
   "source": [
    "# Entailment Program\n",
    "### Using Knowledge Base"
   ]
  },
  {
   "cell_type": "markdown",
   "metadata": {
    "papermill": {
     "duration": 0.012828,
     "end_time": "2020-11-23T05:22:34.319136",
     "exception": false,
     "start_time": "2020-11-23T05:22:34.306308",
     "status": "completed"
    },
    "tags": []
   },
   "source": [
    "BMS College of Engineering - Dr Kavitha Sooda <br />\n",
    "BMS College of Engineering - Prof Sowmya V <br />\n",
    "BMS College of Engineering - Prof G R Asha  <br />\n",
    "##### Class 5C"
   ]
  },
  {
   "cell_type": "markdown",
   "metadata": {
    "papermill": {
     "duration": 0.01286,
     "end_time": "2020-11-23T05:22:34.345241",
     "exception": false,
     "start_time": "2020-11-23T05:22:34.332381",
     "status": "completed"
    },
    "tags": []
   },
   "source": [
    "## Objective\n",
    "- Build a knowledge base \n",
    "- Pass a statement/query and check if the knowledge base entails with the statement \n",
    "\n"
   ]
  },
  {
   "cell_type": "markdown",
   "metadata": {
    "papermill": {
     "duration": 0.01298,
     "end_time": "2020-11-23T05:22:34.371495",
     "exception": false,
     "start_time": "2020-11-23T05:22:34.358515",
     "status": "completed"
    },
    "tags": []
   },
   "source": [
    "![](https://edukite.org/wp-content/uploads/2018/05/97-Knowledge-Based-AI-Cognitive-Systems.jpg)"
   ]
  },
  {
   "cell_type": "markdown",
   "metadata": {
    "papermill": {
     "duration": 0.012781,
     "end_time": "2020-11-23T05:22:34.397492",
     "exception": false,
     "start_time": "2020-11-23T05:22:34.384711",
     "status": "completed"
    },
    "tags": []
   },
   "source": [
    "# Example\n",
    "Here is a situation with 3 variables. Imagine you are a bot put in an environment with these variables\n",
    "### 3 variables\n",
    "- Sunny: True, Rainy: False\n",
    "- Have Umbrella: True, Dont have Umbrella: False\n",
    "- Wet: True, Not Wet: False\n"
   ]
  },
  {
   "cell_type": "markdown",
   "metadata": {
    "papermill": {
     "duration": 0.012865,
     "end_time": "2020-11-23T05:22:34.423561",
     "exception": false,
     "start_time": "2020-11-23T05:22:34.410696",
     "status": "completed"
    },
    "tags": []
   },
   "source": [
    "![](https://ph.toluna.com//dpolls_images/2018/08/11/4af73596-4bae-4bd9-b0e1-49ffc4b7712d.jpg)"
   ]
  },
  {
   "cell_type": "markdown",
   "metadata": {
    "papermill": {
     "duration": 0.012733,
     "end_time": "2020-11-23T05:22:34.449382",
     "exception": false,
     "start_time": "2020-11-23T05:22:34.436649",
     "status": "completed"
    },
    "tags": []
   },
   "source": [
    "## Acquire first piece of knowledge\n",
    "As there are 3 variables, all combinations of true and false can be put into a combinations array. x[0] represents sunny, x[1] represents umbrella and so on...\n",
    "```\n",
    "combinations=[(True,True, True),(True,True,False),\n",
    "              (True,False,True),(True,False, False),\n",
    "              (False,True, True),(False,True, False),\n",
    "              (False,False,True),(False,False,False)]\n",
    "\n",
    "\n",
    "```\n"
   ]
  },
  {
   "cell_type": "markdown",
   "metadata": {
    "papermill": {
     "duration": 0.012877,
     "end_time": "2020-11-23T05:22:34.475422",
     "exception": false,
     "start_time": "2020-11-23T05:22:34.462545",
     "status": "completed"
    },
    "tags": []
   },
   "source": [
    "## The bot learns that\n",
    "- If it is raining and you dont have an umberella then you are wet\n",
    "![](https://cdn4.iconfinder.com/data/icons/warning-signs-4/64/warning_sign_alert_danger_rain_weather-512.png)"
   ]
  },
  {
   "cell_type": "markdown",
   "metadata": {
    "papermill": {
     "duration": 0.012781,
     "end_time": "2020-11-23T05:22:34.501354",
     "exception": false,
     "start_time": "2020-11-23T05:22:34.488573",
     "status": "completed"
    },
    "tags": []
   },
   "source": [
    "```\n",
    "# Rule to tell\n",
    "# (not sunny ^ not_carrying_umberella) => wet\n",
    "\n",
    "\n",
    "# We will write this rule as a function to tell the knowledge base\n",
    "\n",
    "r1 = lambda x: not (not x[0] and not x[1]) or x[2] # Convert implies to CNF\n",
    "```"
   ]
  },
  {
   "cell_type": "markdown",
   "metadata": {
    "papermill": {
     "duration": 0.012819,
     "end_time": "2020-11-23T05:22:34.527386",
     "exception": false,
     "start_time": "2020-11-23T05:22:34.514567",
     "status": "completed"
    },
    "tags": []
   },
   "source": [
    "## Your bot gets stopped with a query\n",
    "- You are dry\n",
    "![](https://comps.canstockphoto.com/keep-dry-no-water-sign-illustration_csp73478527.jpg)"
   ]
  },
  {
   "cell_type": "markdown",
   "metadata": {
    "papermill": {
     "duration": 0.012786,
     "end_time": "2020-11-23T05:22:34.553385",
     "exception": false,
     "start_time": "2020-11-23T05:22:34.540599",
     "status": "completed"
    },
    "tags": []
   },
   "source": [
    "```\n",
    "# Query\n",
    "# Dry\n",
    "\n",
    "# Query as a function to ask Knowledge base\n",
    "\n",
    "q = lambda x: not x[2]\n",
    "```"
   ]
  },
  {
   "cell_type": "markdown",
   "metadata": {
    "papermill": {
     "duration": 0.012825,
     "end_time": "2020-11-23T05:22:34.579386",
     "exception": false,
     "start_time": "2020-11-23T05:22:34.566561",
     "status": "completed"
    },
    "tags": []
   },
   "source": [
    "## Bot is told\n",
    "- You have and umbrella\n",
    "\n",
    "```\n",
    "r2 = lambda x: x[1]\n",
    "```\n"
   ]
  },
  {
   "cell_type": "markdown",
   "metadata": {
    "papermill": {
     "duration": 0.012864,
     "end_time": "2020-11-23T05:22:34.605411",
     "exception": false,
     "start_time": "2020-11-23T05:22:34.592547",
     "status": "completed"
    },
    "tags": []
   },
   "source": [
    "## Bot gets stopped for another question\n",
    "- Your have an umbrella therefore you wont get wet\n",
    "\n",
    "```\n",
    "# have_umbrella => not wet\n",
    "\n",
    "q = lambda x: not x[1] or x[2]\n",
    "```"
   ]
  },
  {
   "cell_type": "markdown",
   "metadata": {
    "papermill": {
     "duration": 0.012855,
     "end_time": "2020-11-23T05:22:34.631536",
     "exception": false,
     "start_time": "2020-11-23T05:22:34.618681",
     "status": "completed"
    },
    "tags": []
   },
   "source": [
    "# Your task is\n",
    "- Create Knowledge base which is an array of rules(functions)\n",
    "- Ask queries to see if KB entails query for all possible combinations of variables"
   ]
  },
  {
   "cell_type": "code",
   "execution_count": 1,
   "metadata": {
    "execution": {
     "iopub.execute_input": "2020-11-23T05:22:34.664818Z",
     "iopub.status.busy": "2020-11-23T05:22:34.663744Z",
     "iopub.status.idle": "2020-11-23T05:22:34.666259Z",
     "shell.execute_reply": "2020-11-23T05:22:34.666822Z"
    },
    "papermill": {
     "duration": 0.022339,
     "end_time": "2020-11-23T05:22:34.667065",
     "exception": false,
     "start_time": "2020-11-23T05:22:34.644726",
     "status": "completed"
    },
    "tags": []
   },
   "outputs": [],
   "source": [
    "def tell(kb,rule):\n",
    "    kb.append(rule)\n"
   ]
  },
  {
   "cell_type": "code",
   "execution_count": 2,
   "metadata": {
    "execution": {
     "iopub.execute_input": "2020-11-23T05:22:34.702734Z",
     "iopub.status.busy": "2020-11-23T05:22:34.701608Z",
     "iopub.status.idle": "2020-11-23T05:22:34.705242Z",
     "shell.execute_reply": "2020-11-23T05:22:34.704609Z"
    },
    "papermill": {
     "duration": 0.0244,
     "end_time": "2020-11-23T05:22:34.705392",
     "exception": false,
     "start_time": "2020-11-23T05:22:34.680992",
     "status": "completed"
    },
    "tags": []
   },
   "outputs": [],
   "source": [
    "combinations=[(True,True, True),(True,True,False),\n",
    "              (True,False,True),(True,False, False),\n",
    "              (False,True, True),(False,True, False),\n",
    "              (False,False,True),(False,False,False)]"
   ]
  },
  {
   "cell_type": "code",
   "execution_count": 3,
   "metadata": {
    "execution": {
     "iopub.execute_input": "2020-11-23T05:22:34.741561Z",
     "iopub.status.busy": "2020-11-23T05:22:34.740415Z",
     "iopub.status.idle": "2020-11-23T05:22:34.744617Z",
     "shell.execute_reply": "2020-11-23T05:22:34.743948Z"
    },
    "papermill": {
     "duration": 0.025587,
     "end_time": "2020-11-23T05:22:34.744748",
     "exception": false,
     "start_time": "2020-11-23T05:22:34.719161",
     "status": "completed"
    },
    "tags": []
   },
   "outputs": [],
   "source": [
    "def ask(kb,q):\n",
    "    for c in combinations:\n",
    "        s = all(rule(c) for rule in kb)\n",
    "        f = q(c)\n",
    "        print(s, f)\n",
    "        if s != f and s != False:\n",
    "            return 'Does not entail'\n",
    "    return 'Entails'"
   ]
  },
  {
   "cell_type": "code",
   "execution_count": 4,
   "metadata": {
    "execution": {
     "iopub.execute_input": "2020-11-23T05:22:34.782419Z",
     "iopub.status.busy": "2020-11-23T05:22:34.781630Z",
     "iopub.status.idle": "2020-11-23T05:22:34.792187Z",
     "shell.execute_reply": "2020-11-23T05:22:34.791014Z"
    },
    "papermill": {
     "duration": 0.033666,
     "end_time": "2020-11-23T05:22:34.792363",
     "exception": false,
     "start_time": "2020-11-23T05:22:34.758697",
     "status": "completed"
    },
    "tags": []
   },
   "outputs": [
    {
     "name": "stdout",
     "output_type": "stream",
     "text": [
      "True True\n",
      "False True\n",
      "True False\n"
     ]
    },
    {
     "data": {
      "text/plain": [
       "'Does not entail'"
      ]
     },
     "execution_count": 4,
     "metadata": {},
     "output_type": "execute_result"
    }
   ],
   "source": [
    "# Test 1\n",
    "# Knowledge base array\n",
    "kb = []\n",
    "\n",
    "## Rule 1\n",
    "r1 = lambda x: x[0] or x[1] and (x[0] and x[1])\n",
    "\n",
    "## Tell KB Rule 1\n",
    "tell(kb, r1)\n",
    "\n",
    "## Tell Rule 2\n",
    "r2 = lambda x: (x[0] or x[1]) and x[2]\n",
    "tell(kb, r2)\n",
    "\n",
    "## Query\n",
    "q = lambda x: x[0] and x[1] and (x[0] or x[1])\n",
    "\n",
    "## Ask KB Query\n",
    "ask(kb, q)"
   ]
  },
  {
   "cell_type": "markdown",
   "metadata": {
    "papermill": {
     "duration": 0.015475,
     "end_time": "2020-11-23T05:22:34.823417",
     "exception": false,
     "start_time": "2020-11-23T05:22:34.807942",
     "status": "completed"
    },
    "tags": []
   },
   "source": [
    "# Create your own senarios and test them"
   ]
  },
  {
   "cell_type": "code",
   "execution_count": 5,
   "metadata": {
    "execution": {
     "iopub.execute_input": "2020-11-23T05:22:34.865060Z",
     "iopub.status.busy": "2020-11-23T05:22:34.862259Z",
     "iopub.status.idle": "2020-11-23T05:22:34.873020Z",
     "shell.execute_reply": "2020-11-23T05:22:34.871917Z"
    },
    "papermill": {
     "duration": 0.034893,
     "end_time": "2020-11-23T05:22:34.873165",
     "exception": false,
     "start_time": "2020-11-23T05:22:34.838272",
     "status": "completed"
    },
    "tags": []
   },
   "outputs": [
    {
     "name": "stdout",
     "output_type": "stream",
     "text": [
      "False False\n",
      "False False\n",
      "False True\n",
      "False True\n",
      "False False\n",
      "False False\n",
      "False False\n",
      "False False\n"
     ]
    },
    {
     "data": {
      "text/plain": [
       "'Entails'"
      ]
     },
     "execution_count": 5,
     "metadata": {},
     "output_type": "execute_result"
    }
   ],
   "source": [
    "r3 = lambda x: (x[0] and x[1]) or x[2]\n",
    "r4 = lambda x: not x[1] or not x[2]\n",
    "r5 = lambda x: not x[0] and x[1]\n",
    "\n",
    "tell(kb, r3)\n",
    "tell(kb, r4)\n",
    "tell(kb, r5)\n",
    "\n",
    "q = lambda x: x[0] and  not x[1]\n",
    "ask(kb, q)"
   ]
  }
 ],
 "metadata": {
  "kernelspec": {
   "display_name": "Python 3",
   "language": "python",
   "name": "python3"
  },
  "language_info": {
   "codemirror_mode": {
    "name": "ipython",
    "version": 3
   },
   "file_extension": ".py",
   "mimetype": "text/x-python",
   "name": "python",
   "nbconvert_exporter": "python",
   "pygments_lexer": "ipython3",
   "version": "3.7.6"
  },
  "papermill": {
   "duration": 6.448929,
   "end_time": "2020-11-23T05:22:34.997920",
   "environment_variables": {},
   "exception": null,
   "input_path": "__notebook__.ipynb",
   "output_path": "__notebook__.ipynb",
   "parameters": {},
   "start_time": "2020-11-23T05:22:28.548991",
   "version": "2.1.0"
  }
 },
 "nbformat": 4,
 "nbformat_minor": 4
}
