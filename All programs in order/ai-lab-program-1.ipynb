{
 "cells": [
  {
   "cell_type": "markdown",
   "metadata": {
    "papermill": {
     "duration": 0.008992,
     "end_time": "2020-10-04T06:58:27.914043",
     "exception": false,
     "start_time": "2020-10-04T06:58:27.905051",
     "status": "completed"
    },
    "tags": []
   },
   "source": [
    "# Tic Tac Toe\n",
    "BMS College of Engineering - Dr Kavitha Sooda <br />\n",
    "BMS College of Engineering - Dr Nagarathna N <br />\n",
    "BMS College of Engineering - Prof G R Asha  <br />\n",
    "##### Class 5C"
   ]
  },
  {
   "cell_type": "code",
   "execution_count": 1,
   "metadata": {
    "execution": {
     "iopub.execute_input": "2020-10-04T06:58:27.935124Z",
     "iopub.status.busy": "2020-10-04T06:58:27.934476Z",
     "iopub.status.idle": "2020-10-04T06:58:27.937731Z",
     "shell.execute_reply": "2020-10-04T06:58:27.937169Z"
    },
    "papermill": {
     "duration": 0.015434,
     "end_time": "2020-10-04T06:58:27.937855",
     "exception": false,
     "start_time": "2020-10-04T06:58:27.922421",
     "status": "completed"
    },
    "tags": []
   },
   "outputs": [],
   "source": [
    "# Create a 3x3 tic tac toe board of \"\" strings for each value\n",
    "board = [' '] * 9"
   ]
  },
  {
   "cell_type": "code",
   "execution_count": 2,
   "metadata": {
    "execution": {
     "iopub.execute_input": "2020-10-04T06:58:27.963249Z",
     "iopub.status.busy": "2020-10-04T06:58:27.962594Z",
     "iopub.status.idle": "2020-10-04T06:58:27.966475Z",
     "shell.execute_reply": "2020-10-04T06:58:27.965611Z"
    },
    "papermill": {
     "duration": 0.020256,
     "end_time": "2020-10-04T06:58:27.966627",
     "exception": false,
     "start_time": "2020-10-04T06:58:27.946371",
     "status": "completed"
    },
    "tags": []
   },
   "outputs": [
    {
     "name": "stdout",
     "output_type": "stream",
     "text": [
      "   |   |\n",
      " X | O | X\n",
      "   |   |\n",
      "-----------\n",
      "   |   |\n",
      " O | X | O\n",
      "   |   |\n",
      "-----------\n",
      "   |   |\n",
      " X | O | X\n",
      "   |   |\n"
     ]
    }
   ],
   "source": [
    "# Create a function to display your board\n",
    "def display_board(board):\n",
    "    print('   |   |')\n",
    "    print(' ' + board[7] + ' | ' + board[8] + ' | ' + board[9])\n",
    "    print('   |   |')\n",
    "    print('-----------')\n",
    "    print('   |   |')\n",
    "    print(' ' + board[4] + ' | ' + board[5] + ' | ' + board[6])\n",
    "    print('   |   |')\n",
    "    print('-----------')\n",
    "    print('   |   |')\n",
    "    print(' ' + board[1] + ' | ' + board[2] + ' | ' + board[3])\n",
    "    print('   |   |')\n",
    "\n",
    "test_board = ['#','X','O','X','O','X','O','X','O','X']    \n",
    "display_board(test_board)"
   ]
  },
  {
   "cell_type": "code",
   "execution_count": 3,
   "metadata": {
    "execution": {
     "iopub.execute_input": "2020-10-04T06:58:27.997235Z",
     "iopub.status.busy": "2020-10-04T06:58:27.996397Z",
     "iopub.status.idle": "2020-10-04T06:58:28.000871Z",
     "shell.execute_reply": "2020-10-04T06:58:28.000137Z"
    },
    "papermill": {
     "duration": 0.024635,
     "end_time": "2020-10-04T06:58:28.001002",
     "exception": false,
     "start_time": "2020-10-04T06:58:27.976367",
     "status": "completed"
    },
    "tags": []
   },
   "outputs": [
    {
     "data": {
      "text/plain": [
       "True"
      ]
     },
     "execution_count": 3,
     "metadata": {},
     "output_type": "execute_result"
    }
   ],
   "source": [
    "#Create a function to check if anyone won, Use marks \"X\" or \"O\"\n",
    "def check_win(mark, board):\n",
    "     return ((board[7] == mark and board[8] == mark and board[9] == mark) or \n",
    "    (board[4] == mark and board[5] == mark and board[6] == mark) or \n",
    "    (board[1] == mark and board[2] == mark and board[3] == mark) or \n",
    "    (board[7] == mark and board[4] == mark and board[1] == mark) or\n",
    "    (board[8] == mark and board[5] == mark and board[2] == mark) or \n",
    "    (board[9] == mark and board[6] == mark and board[3] == mark) or \n",
    "    (board[7] == mark and board[5] == mark and board[3] == mark) or \n",
    "    (board[9] == mark and board[5] == mark and board[1] == mark)) \n",
    "check_win('X', test_board)"
   ]
  },
  {
   "cell_type": "code",
   "execution_count": 4,
   "metadata": {
    "execution": {
     "iopub.execute_input": "2020-10-04T06:58:28.026382Z",
     "iopub.status.busy": "2020-10-04T06:58:28.025661Z",
     "iopub.status.idle": "2020-10-04T06:58:28.028667Z",
     "shell.execute_reply": "2020-10-04T06:58:28.028036Z"
    },
    "papermill": {
     "duration": 0.017225,
     "end_time": "2020-10-04T06:58:28.028807",
     "exception": false,
     "start_time": "2020-10-04T06:58:28.011582",
     "status": "completed"
    },
    "tags": []
   },
   "outputs": [],
   "source": [
    "# Create a function to check its a Draw\n",
    "def check_draw(board):\n",
    "        return ' ' not in board"
   ]
  },
  {
   "cell_type": "markdown",
   "metadata": {
    "papermill": {
     "duration": 0.009344,
     "end_time": "2020-10-04T06:58:28.047829",
     "exception": false,
     "start_time": "2020-10-04T06:58:28.038485",
     "status": "completed"
    },
    "tags": []
   },
   "source": [
    "# The AI agent\n",
    "## Create an agent that beats you at Tic Tac Toe\n",
    "- Create a stategy to win the game"
   ]
  },
  {
   "cell_type": "code",
   "execution_count": 5,
   "metadata": {
    "execution": {
     "iopub.execute_input": "2020-10-04T06:58:28.071112Z",
     "iopub.status.busy": "2020-10-04T06:58:28.070510Z",
     "iopub.status.idle": "2020-10-04T06:58:28.072920Z",
     "shell.execute_reply": "2020-10-04T06:58:28.073446Z"
    },
    "papermill": {
     "duration": 0.016791,
     "end_time": "2020-10-04T06:58:28.073590",
     "exception": false,
     "start_time": "2020-10-04T06:58:28.056799",
     "status": "completed"
    },
    "tags": []
   },
   "outputs": [],
   "source": [
    "# Create a Function that makes a copy of the board\n",
    "def board_copy(board):\n",
    "    dupeBoard = []\n",
    "\n",
    "    for i in board:\n",
    "        dupeBoard.append(i)\n",
    "\n",
    "    return dupeBoard"
   ]
  },
  {
   "cell_type": "code",
   "execution_count": 6,
   "metadata": {
    "execution": {
     "iopub.execute_input": "2020-10-04T06:58:28.097220Z",
     "iopub.status.busy": "2020-10-04T06:58:28.096618Z",
     "iopub.status.idle": "2020-10-04T06:58:28.099613Z",
     "shell.execute_reply": "2020-10-04T06:58:28.099089Z"
    },
    "papermill": {
     "duration": 0.016877,
     "end_time": "2020-10-04T06:58:28.099728",
     "exception": false,
     "start_time": "2020-10-04T06:58:28.082851",
     "status": "completed"
    },
    "tags": []
   },
   "outputs": [],
   "source": [
    "#Immediate move checker\n",
    "def test_win_move(move, player_mark, board):\n",
    "    bCopy = board_copy(board)\n",
    "    bCopy[move] = player_mark\n",
    "    return check_win(player_mark, bCopy)\n"
   ]
  },
  {
   "cell_type": "code",
   "execution_count": 7,
   "metadata": {
    "execution": {
     "iopub.execute_input": "2020-10-04T06:58:28.126396Z",
     "iopub.status.busy": "2020-10-04T06:58:28.125764Z",
     "iopub.status.idle": "2020-10-04T06:58:28.128642Z",
     "shell.execute_reply": "2020-10-04T06:58:28.127999Z"
    },
    "papermill": {
     "duration": 0.018215,
     "end_time": "2020-10-04T06:58:28.128759",
     "exception": false,
     "start_time": "2020-10-04T06:58:28.110544",
     "status": "completed"
    },
    "tags": []
   },
   "outputs": [],
   "source": [
    "#Strategy if others fail\n",
    "def win_strategy(board):\n",
    "    if board[5] == '':\n",
    "        return 4\n",
    "    for i in [1,3,7,9]:\n",
    "        if board[i] == ' ':\n",
    "            return i\n",
    "    for i in [2,4,6,8]:\n",
    "        if board[i] == ' ':\n",
    "            return i\n",
    "        "
   ]
  },
  {
   "cell_type": "code",
   "execution_count": 8,
   "metadata": {
    "execution": {
     "iopub.execute_input": "2020-10-04T06:58:28.153429Z",
     "iopub.status.busy": "2020-10-04T06:58:28.152584Z",
     "iopub.status.idle": "2020-10-04T06:58:28.155434Z",
     "shell.execute_reply": "2020-10-04T06:58:28.154921Z"
    },
    "papermill": {
     "duration": 0.017388,
     "end_time": "2020-10-04T06:58:28.155543",
     "exception": false,
     "start_time": "2020-10-04T06:58:28.138155",
     "status": "completed"
    },
    "tags": []
   },
   "outputs": [],
   "source": [
    "# Agents move\n",
    "def get_agent_move(board):\n",
    "    # Return agent move with your strategy\n",
    "    move = self.get_agent_move()\n",
    "    self.board[move] = self.mark\n",
    "    self.display_board()"
   ]
  },
  {
   "cell_type": "code",
   "execution_count": 9,
   "metadata": {
    "execution": {
     "iopub.execute_input": "2020-10-04T06:58:28.186151Z",
     "iopub.status.busy": "2020-10-04T06:58:28.185295Z",
     "iopub.status.idle": "2020-10-04T06:58:28.188181Z",
     "shell.execute_reply": "2020-10-04T06:58:28.187624Z"
    },
    "papermill": {
     "duration": 0.023177,
     "end_time": "2020-10-04T06:58:28.188304",
     "exception": false,
     "start_time": "2020-10-04T06:58:28.165127",
     "status": "completed"
    },
    "tags": []
   },
   "outputs": [],
   "source": [
    "# Assemble the game\n",
    "def tictactoe():\n",
    "    ### Note you need to recreate your board again here if you wish to play the game more than once\n",
    "    Playing = True\n",
    "    while Playing:\n",
    "            self.board = [\" \" for i in range(9)]\n",
    "            # Choose Marks\n",
    "            print('X or O')\n",
    "            self.player_mark = input()\n",
    "            self.mark = 'X' if self.player_mark == \"O\" else \"O\"\n",
    "\n",
    "            #Choose start\n",
    "            print(\"Want to go first [y,n]\")\n",
    "            flag = '1' if input() == 'y' else '0'\n",
    "\n",
    "            Ingame = True\n",
    "            while Ingame:\n",
    "\n",
    "                if flag == '1':\n",
    "                    self.player_moves()\n",
    "                    mark = self.player_mark\n",
    "                else:\n",
    "                    self.agent_moves()\n",
    "                    mark = self.mark\n",
    "                \n",
    "                #Check if someone won\n",
    "                if self.check_win(mark, self.board):\n",
    "                    Ingame = False\n",
    "                    if mark == self.player_mark:\n",
    "                        print(\"Player wins!!!\")\n",
    "                    else:\n",
    "                        print(\"Agent wins\")\n",
    "                    break\n",
    "                \n",
    "                # Check if game Draws\n",
    "                if self.check_draw():\n",
    "                    print('Draw!!!')\n",
    "                    break\n",
    "                \n",
    "                #Switch to comp or person moves\n",
    "                flag = '0' if flag == '1' else '1'\n",
    "            \n",
    "            # Another game \n",
    "            print(\"Another game [y,n]?\")\n",
    "            if input() == 'n':\n",
    "                Playing = False\n",
    "            print('Thank you for playing!')\n",
    "\n",
    "            b = TicTacToe_board()\n",
    "            b.tictactoe()\n",
    "    "
   ]
  },
  {
   "cell_type": "code",
   "execution_count": 10,
   "metadata": {
    "execution": {
     "iopub.execute_input": "2020-10-04T06:58:28.212529Z",
     "iopub.status.busy": "2020-10-04T06:58:28.211826Z",
     "iopub.status.idle": "2020-10-04T06:58:28.241213Z",
     "shell.execute_reply": "2020-10-04T06:58:28.241717Z"
    },
    "papermill": {
     "duration": 0.043771,
     "end_time": "2020-10-04T06:58:28.241883",
     "exception": false,
     "start_time": "2020-10-04T06:58:28.198112",
     "status": "completed"
    },
    "tags": []
   },
   "outputs": [
    {
     "ename": "TypeError",
     "evalue": "tictactoe() takes 0 positional arguments but 1 was given",
     "output_type": "error",
     "traceback": [
      "\u001b[0;31m---------------------------------------------------------------------------\u001b[0m",
      "\u001b[0;31mTypeError\u001b[0m                                 Traceback (most recent call last)",
      "\u001b[0;32m<ipython-input-10-277459585011>\u001b[0m in \u001b[0;36m<module>\u001b[0;34m\u001b[0m\n\u001b[1;32m      1\u001b[0m \u001b[0;31m# Play!!!\u001b[0m\u001b[0;34m\u001b[0m\u001b[0;34m\u001b[0m\u001b[0;34m\u001b[0m\u001b[0m\n\u001b[0;32m----> 2\u001b[0;31m \u001b[0mtictactoe\u001b[0m\u001b[0;34m(\u001b[0m\u001b[0mboard\u001b[0m\u001b[0;34m)\u001b[0m\u001b[0;34m\u001b[0m\u001b[0;34m\u001b[0m\u001b[0m\n\u001b[0m",
      "\u001b[0;31mTypeError\u001b[0m: tictactoe() takes 0 positional arguments but 1 was given"
     ]
    }
   ],
   "source": [
    "# Play!!!\n",
    "tictactoe(board)"
   ]
  },
  {
   "cell_type": "markdown",
   "metadata": {
    "papermill": {
     "duration": 0.009972,
     "end_time": "2020-10-04T06:58:28.262125",
     "exception": false,
     "start_time": "2020-10-04T06:58:28.252153",
     "status": "completed"
    },
    "tags": []
   },
   "source": [
    "# Challenge\n",
    "- Put all these methods into a class called 'Tic_Tac_Toe'"
   ]
  },
  {
   "cell_type": "code",
   "execution_count": 11,
   "metadata": {
    "execution": {
     "iopub.execute_input": "2020-10-04T06:58:28.288134Z",
     "iopub.status.busy": "2020-10-04T06:58:28.287196Z",
     "iopub.status.idle": "2020-10-04T06:58:28.290387Z",
     "shell.execute_reply": "2020-10-04T06:58:28.289829Z"
    },
    "papermill": {
     "duration": 0.018054,
     "end_time": "2020-10-04T06:58:28.290540",
     "exception": false,
     "start_time": "2020-10-04T06:58:28.272486",
     "status": "completed"
    },
    "tags": []
   },
   "outputs": [],
   "source": [
    "class Tic_Tac_Toe:\n",
    "    def __init__(self):\n",
    "        pass"
   ]
  }
 ],
 "metadata": {
  "kernelspec": {
   "display_name": "Python 3",
   "language": "python",
   "name": "python3"
  },
  "language_info": {
   "codemirror_mode": {
    "name": "ipython",
    "version": 3
   },
   "file_extension": ".py",
   "mimetype": "text/x-python",
   "name": "python",
   "nbconvert_exporter": "python",
   "pygments_lexer": "ipython3",
   "version": "3.7.6"
  },
  "papermill": {
   "duration": 4.648638,
   "end_time": "2020-10-04T06:58:28.408170",
   "environment_variables": {},
   "exception": null,
   "input_path": "__notebook__.ipynb",
   "output_path": "__notebook__.ipynb",
   "parameters": {},
   "start_time": "2020-10-04T06:58:23.759532",
   "version": "2.1.0"
  }
 },
 "nbformat": 4,
 "nbformat_minor": 4
}
