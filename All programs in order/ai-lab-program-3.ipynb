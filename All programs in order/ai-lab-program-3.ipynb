{
 "cells": [
  {
   "cell_type": "markdown",
   "metadata": {
    "_cell_guid": "b1076dfc-b9ad-4769-8c92-a6c4dae69d19",
    "_uuid": "8f2839f25d086af736a60e9eeb907d3b93b6e0e5",
    "papermill": {
     "duration": 0.008142,
     "end_time": "2020-10-12T05:12:21.558799",
     "exception": false,
     "start_time": "2020-10-12T05:12:21.550657",
     "status": "completed"
    },
    "tags": []
   },
   "source": [
    "# 8 Puzzle Problem"
   ]
  },
  {
   "cell_type": "markdown",
   "metadata": {
    "_cell_guid": "79c7e3d0-c299-4dcb-8224-4455121ee9b0",
    "_uuid": "d629ff2d2480ee46fbb7e2d37f6b5fab8052498a",
    "collapsed": true,
    "papermill": {
     "duration": 0.007308,
     "end_time": "2020-10-12T05:12:21.574006",
     "exception": false,
     "start_time": "2020-10-12T05:12:21.566698",
     "status": "completed"
    },
    "tags": []
   },
   "source": [
    "BMS College of Engineering - Dr Kavitha Sooda <br />\n",
    "BMS College of Engineering - Dr Nagarathna N <br />\n",
    "BMS College of Engineering - Prof G R Asha  <br />\n",
    "##### Class 5C"
   ]
  },
  {
   "cell_type": "markdown",
   "metadata": {
    "papermill": {
     "duration": 0.007364,
     "end_time": "2020-10-12T05:12:21.588807",
     "exception": false,
     "start_time": "2020-10-12T05:12:21.581443",
     "status": "completed"
    },
    "tags": []
   },
   "source": [
    "## Objective\n",
    " Given a 3×3 board with 8 tiles and one empty space \n",
    " - Move the numbers around to match the final configuration using the empty spot \n",
    " - You can slide the numbers from above, below, left and right tiles into the empty space.\n",
    "![](https://media.geeksforgeeks.org/wp-content/uploads/puzzle8init.jpg)"
   ]
  },
  {
   "cell_type": "markdown",
   "metadata": {
    "papermill": {
     "duration": 0.006859,
     "end_time": "2020-10-12T05:12:21.602791",
     "exception": false,
     "start_time": "2020-10-12T05:12:21.595932",
     "status": "completed"
    },
    "tags": []
   },
   "source": [
    "Try and use a Brute Force Algorithms\n",
    "\n",
    "![](https://media.geeksforgeeks.org/wp-content/uploads/puzzle-1.jpg)"
   ]
  },
  {
   "cell_type": "code",
   "execution_count": 1,
   "metadata": {
    "execution": {
     "iopub.execute_input": "2020-10-12T05:12:21.624568Z",
     "iopub.status.busy": "2020-10-12T05:12:21.624025Z",
     "iopub.status.idle": "2020-10-12T05:12:21.627277Z",
     "shell.execute_reply": "2020-10-12T05:12:21.627652Z"
    },
    "papermill": {
     "duration": 0.017849,
     "end_time": "2020-10-12T05:12:21.627784",
     "exception": false,
     "start_time": "2020-10-12T05:12:21.609935",
     "status": "completed"
    },
    "tags": []
   },
   "outputs": [],
   "source": [
    "# Bredth first search in search of target - Using Brute Force Algorithms\n",
    "\n",
    "def bfs(src,target):\n",
    "    que = [src]\n",
    "    visited_states = []\n",
    "    while len(que):\n",
    "        state = que.pop(0)\n",
    "        print(state)\n",
    "        visited_states.append(tuple(state))\n",
    "        if state == target:\n",
    "            return\n",
    "        for move in possible_moves(state, visited_states):\n",
    "            if move not in que and tuple(move) not in visited_states:\n",
    "                que.append(move)"
   ]
  },
  {
   "cell_type": "code",
   "execution_count": 2,
   "metadata": {
    "execution": {
     "iopub.execute_input": "2020-10-12T05:12:21.652062Z",
     "iopub.status.busy": "2020-10-12T05:12:21.649903Z",
     "iopub.status.idle": "2020-10-12T05:12:21.655798Z",
     "shell.execute_reply": "2020-10-12T05:12:21.655214Z"
    },
    "papermill": {
     "duration": 0.022464,
     "end_time": "2020-10-12T05:12:21.655888",
     "exception": false,
     "start_time": "2020-10-12T05:12:21.633424",
     "status": "completed"
    },
    "tags": []
   },
   "outputs": [],
   "source": [
    "# Find Possible Moves\n",
    "def possible_moves(state, visited_states): \n",
    "    # Find index of empty spot and assign it to b\n",
    "    b = state.index(-1);\n",
    "    \n",
    "    #'d' for down, 'u' for up, 'r' for right, 'l' for left - directions array\n",
    "    d = []\n",
    "                                    \n",
    "    #Add all possible direction into directions array - Hint using if statements\n",
    "    if b - 3 in range(9): \n",
    "        d.append('u')\n",
    "    if b not in [0,3,6]: \n",
    "        d.append('l')\n",
    "    if b not in [2,5,8]: \n",
    "        d.append('r')\n",
    "    if b + 3 in range(9): \n",
    "        d.append('d')\n",
    "    \n",
    "    # If direction is possible then add state to move\n",
    "    pos_moves = []\n",
    "    \n",
    "    # for all possible directions find the state if that move is played\n",
    "    ### Jump to gen function to generate all possible moves in the given directions\n",
    "    for m in d:\n",
    "        pos_moves.append(gen(state, m, b))\n",
    "    \n",
    "    # return all possible moves only if the move not in visited_states\n",
    "    return [move for move in pos_moves if move not in visited_states]\n",
    "\n"
   ]
  },
  {
   "cell_type": "code",
   "execution_count": 3,
   "metadata": {
    "execution": {
     "iopub.execute_input": "2020-10-12T05:12:21.673657Z",
     "iopub.status.busy": "2020-10-12T05:12:21.673088Z",
     "iopub.status.idle": "2020-10-12T05:12:21.675471Z",
     "shell.execute_reply": "2020-10-12T05:12:21.675022Z"
    },
    "papermill": {
     "duration": 0.014152,
     "end_time": "2020-10-12T05:12:21.675561",
     "exception": false,
     "start_time": "2020-10-12T05:12:21.661409",
     "status": "completed"
    },
    "tags": []
   },
   "outputs": [],
   "source": [
    "# Generate move for given direction\n",
    "def gen(state, m, b):\n",
    "    # m(move) is direction to slide, b(blank) is index of empty spot\n",
    "    # create a copy of current state to test the move\n",
    "    temp = state.copy()                              \n",
    "    \n",
    "    # if move is to slide empty spot to the left and so on\n",
    "    if m == 'u': temp[b-3] , temp[b] = temp[b], temp[b-3]\n",
    "    if m == 'l': temp[b-1] , temp[b] = temp[b], temp[b-1]\n",
    "    if m == 'r': temp[b+1] , temp[b] = temp[b], temp[b+1]\n",
    "    if m == 'd': temp[b+3] , temp[b] = temp[b], temp[b+3]   \n",
    "    \n",
    "    # return new state with tested move to later check if \"src == target\"\n",
    "    return temp"
   ]
  },
  {
   "cell_type": "code",
   "execution_count": 4,
   "metadata": {
    "execution": {
     "iopub.execute_input": "2020-10-12T05:12:21.692041Z",
     "iopub.status.busy": "2020-10-12T05:12:21.691597Z",
     "iopub.status.idle": "2020-10-12T05:12:21.694371Z",
     "shell.execute_reply": "2020-10-12T05:12:21.693875Z"
    },
    "papermill": {
     "duration": 0.012941,
     "end_time": "2020-10-12T05:12:21.694456",
     "exception": false,
     "start_time": "2020-10-12T05:12:21.681515",
     "status": "completed"
    },
    "tags": []
   },
   "outputs": [
    {
     "name": "stdout",
     "output_type": "stream",
     "text": [
      "[1, 2, 3, -1, 4, 5, 6, 7, 8]\n",
      "[-1, 2, 3, 1, 4, 5, 6, 7, 8]\n",
      "[1, 2, 3, 4, -1, 5, 6, 7, 8]\n",
      "[1, 2, 3, 6, 4, 5, -1, 7, 8]\n",
      "[2, -1, 3, 1, 4, 5, 6, 7, 8]\n",
      "[1, -1, 3, 4, 2, 5, 6, 7, 8]\n",
      "[1, 2, 3, 4, 5, -1, 6, 7, 8]\n"
     ]
    }
   ],
   "source": [
    "#Test 1\n",
    "src = [1,2,3,-1,4,5,6,7,8]\n",
    "target = [1,2,3,4,5,-1,6,7,8]         \n",
    "       \n",
    "\n",
    "\n",
    "bfs(src, target) "
   ]
  },
  {
   "cell_type": "code",
   "execution_count": 5,
   "metadata": {
    "execution": {
     "iopub.execute_input": "2020-10-12T05:12:21.711611Z",
     "iopub.status.busy": "2020-10-12T05:12:21.711068Z",
     "iopub.status.idle": "2020-10-12T05:12:21.713839Z",
     "shell.execute_reply": "2020-10-12T05:12:21.713396Z"
    },
    "papermill": {
     "duration": 0.013317,
     "end_time": "2020-10-12T05:12:21.713923",
     "exception": false,
     "start_time": "2020-10-12T05:12:21.700606",
     "status": "completed"
    },
    "tags": []
   },
   "outputs": [
    {
     "name": "stdout",
     "output_type": "stream",
     "text": [
      "[1, 2, 3, -1, 4, 5, 6, 7, 8]\n",
      "[-1, 2, 3, 1, 4, 5, 6, 7, 8]\n",
      "[1, 2, 3, 4, -1, 5, 6, 7, 8]\n",
      "[1, 2, 3, 6, 4, 5, -1, 7, 8]\n"
     ]
    }
   ],
   "source": [
    "# Test 2\n",
    "src = [1,2,3,-1,4,5,6,7,8] \n",
    "target=[1,2,3,6,4,5,-1,7,8]\n",
    "\n",
    "\n",
    "\n",
    "bfs(src, target)"
   ]
  },
  {
   "cell_type": "markdown",
   "metadata": {
    "papermill": {
     "duration": 0.006181,
     "end_time": "2020-10-12T05:12:21.726484",
     "exception": false,
     "start_time": "2020-10-12T05:12:21.720303",
     "status": "completed"
    },
    "tags": []
   },
   "source": [
    "# Challenge"
   ]
  },
  {
   "cell_type": "markdown",
   "metadata": {
    "papermill": {
     "duration": 0.005907,
     "end_time": "2020-10-12T05:12:21.738625",
     "exception": false,
     "start_time": "2020-10-12T05:12:21.732718",
     "status": "completed"
    },
    "tags": []
   },
   "source": [
    "1. Change the above functions to add memory so the a site already checked isnt visited again\n",
    "2. Try another brute force algorithm to find the solution"
   ]
  }
 ],
 "metadata": {
  "kernelspec": {
   "display_name": "Python 3",
   "language": "python",
   "name": "python3"
  },
  "language_info": {
   "codemirror_mode": {
    "name": "ipython",
    "version": 3
   },
   "file_extension": ".py",
   "mimetype": "text/x-python",
   "name": "python",
   "nbconvert_exporter": "python",
   "pygments_lexer": "ipython3",
   "version": "3.7.6"
  },
  "papermill": {
   "duration": 4.907638,
   "end_time": "2020-10-12T05:12:21.851186",
   "environment_variables": {},
   "exception": null,
   "input_path": "__notebook__.ipynb",
   "output_path": "__notebook__.ipynb",
   "parameters": {},
   "start_time": "2020-10-12T05:12:16.943548",
   "version": "2.1.0"
  }
 },
 "nbformat": 4,
 "nbformat_minor": 4
}
