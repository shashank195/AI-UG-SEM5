{
  "nbformat": 4,
  "nbformat_minor": 0,
  "metadata": {
    "colab": {
      "name": "Exam1.ipynb",
      "provenance": [],
      "authorship_tag": "ABX9TyO0BAz/Vv9M10GYA6gbzwYU",
      "include_colab_link": true
    },
    "kernelspec": {
      "name": "python3",
      "display_name": "Python 3"
    }
  },
  "cells": [
    {
      "cell_type": "markdown",
      "metadata": {
        "id": "view-in-github",
        "colab_type": "text"
      },
      "source": [
        "<a href=\"https://colab.research.google.com/github/shashank195/AI-UG-SEM5/blob/master/Exam1.ipynb\" target=\"_parent\"><img src=\"https://colab.research.google.com/assets/colab-badge.svg\" alt=\"Open In Colab\"/></a>"
      ]
    },
    {
      "cell_type": "code",
      "metadata": {
        "id": "JfLl8H8Wfirq",
        "outputId": "6cc61a0c-f5e4-46dc-cbd5-269721dbf43c",
        "colab": {
          "base_uri": "https://localhost:8080/"
        }
      },
      "source": [
        "    def addEdge(self, u, v):\n",
        "        self.graph[u].append(v)\n",
        "\n",
        "        # A function to perform a Depth-Limited search\n",
        "\n",
        "    # from given source 'src'\n",
        "    def DLS(self, src, target, maxDepth,arr):\n",
        "\n",
        "        if src == target:\n",
        "            arr.append(src)\n",
        "            return True\n",
        "\n",
        "        # If reached the maximum depth, stop recursing.\n",
        "        if maxDepth <= 0: return False\n",
        "        arr.append(src)\n",
        "\n",
        "        # Recur for all the vertices adjacent to this vertex\n",
        "        for i in self.graph[src]:\n",
        "            if (self.DLS(i, target, maxDepth - 1,arr)):\n",
        "                return True\n",
        "        arr.pop()\n",
        "        return False\n",
        "\n",
        "    # IDDFS to search if target is reachable from v.\n",
        "    # It uses recursive DLS()\n",
        "    def IDDFS(self, src, target, maxDepth):\n",
        "\n",
        "        # Repeatedly depth-limit search till the\n",
        "        # maximum depth\n",
        "        for i in range(maxDepth):\n",
        "            if (self.DLS(src, target, i,self.node_arr)):\n",
        "                return True\n",
        "        return False\n",
        "\n",
        "\n",
        "# Create a graph given in the above diagram\n",
        "g = Graph(9);\n",
        "g.addEdge('s', 'a')\n",
        "g.addEdge('s', 'b')\n",
        "g.addEdge('s', 'c')\n",
        "g.addEdge('a','d')\n",
        "g.addEdge('d','f')\n",
        "g.addEdge('f','g')\n",
        "g.addEdge('b','e')\n",
        "g.addEdge('e','g')\n",
        "g.addEdge('c','g')\n",
        "src='s'\n",
        "target='g'\n",
        "maxDepth=9\n",
        "\n",
        "if g.IDDFS(src, target, maxDepth) == True:\n",
        "  print(\"Target is reachable from source \" +\n",
        "          \"within max depth\")\n",
        "else:\n",
        "  print(\"Target is NOT reachable from source \" +\n",
        "          \"within max depth\")\n",
        "print(g.node_arr)"
      ],
      "execution_count": 7,
      "outputs": [
        {
          "output_type": "stream",
          "text": [
            "Target is reachable from source within max depth\n",
            "['s', 'c', 'g']\n"
          ],
          "name": "stdout"
        }
      ]
    }
  ]
}