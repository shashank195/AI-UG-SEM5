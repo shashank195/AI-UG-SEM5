{
  "nbformat": 4,
  "nbformat_minor": 0,
  "metadata": {
    "colab": {
      "name": "Exam1.ipynb",
      "provenance": [],
      "authorship_tag": "ABX9TyN5D7HuWFTT+RqeJbhpht2H",
      "include_colab_link": true
    },
    "kernelspec": {
      "name": "python3",
      "display_name": "Python 3"
    }
  },
  "cells": [
    {
      "cell_type": "markdown",
      "metadata": {
        "id": "view-in-github",
        "colab_type": "text"
      },
      "source": [
        "<a href=\"https://colab.research.google.com/github/shashank195/AI-UG-SEM5/blob/master/Exam1.ipynb\" target=\"_parent\"><img src=\"https://colab.research.google.com/assets/colab-badge.svg\" alt=\"Open In Colab\"/></a>"
      ]
    },
    {
      "cell_type": "code",
      "metadata": {
        "id": "JfLl8H8Wfirq",
        "outputId": "2887f4d6-b10a-45ac-f7db-d78c2c0b7505",
        "colab": {
          "base_uri": "https://localhost:8080/"
        }
      },
      "source": [
        "from collections import defaultdict\n",
        "\n",
        "class Graph: \n",
        "  \n",
        "    \n",
        "    def __init__(self,vertices): \n",
        "  \n",
        "        self.V = vertices \n",
        "        self.graph = defaultdict(list) \n",
        "  \n",
        "    def addEdge(self,u,v,w): \n",
        "        self.graph[u].append((v,w)) \n",
        "  \n",
        "     \n",
        "    def DLS(self,src,target,maxDepth,parent): \n",
        "  \n",
        "        if src == target : return 0\n",
        "  \n",
        "        \n",
        "        if maxDepth <= 0 : return -1\n",
        "\n",
        "        res=10000\n",
        "        nextnode=src\n",
        "        for node,weight in self.graph[src]: \n",
        "                p=self.DLS(node,target,maxDepth-1,parent)\n",
        "                if(p!=-1): \n",
        "                    if(p<res):\n",
        "                        res=p+weight\n",
        "                        nextnode=node\n",
        "        parent[src]=nextnode           \n",
        "        return res\n",
        "  \n",
        "    \n",
        "    def IDDFS(self,src, target, maxDepth): \n",
        "        ans=1000\n",
        "        \n",
        "        parent = [0] * 8\n",
        "        for i in range(maxDepth+1): \n",
        "            if self.DLS(src, target, i,parent)!=-1:\n",
        "                ans=min(ans,self.DLS(src, target, i,parent))\n",
        "        print(parent);\n",
        "        i = 0\n",
        "        print(i)\n",
        "        while i < 7:\n",
        "            print(parent[i])\n",
        "            i = parent[i]\n",
        "\n",
        "        return ans\n",
        "  \n",
        "\n",
        "g = Graph(8) \n",
        "g.addEdge(0, 1, 3) \n",
        "g.addEdge(0, 2, 2) \n",
        "g.addEdge(0, 3, 1) \n",
        "g.addEdge(1, 4, 6) \n",
        "g.addEdge(2, 5, 4) \n",
        "g.addEdge(3, 7, 20) \n",
        "g.addEdge(4, 6, 1) \n",
        "g.addEdge(5, 7, 8) \n",
        "g.addEdge(6, 7, 1) \n",
        "parent = [0] * 10 \n",
        "target = 7; maxDepth = 4; src = 0\n",
        "ans=g.IDDFS(src, target, maxDepth)\n",
        "if ans != 1000: \n",
        "    \n",
        "    print(\"The optimal cost is = \",ans)\n",
        "else : \n",
        "    print (\"\")"
      ],
      "execution_count": 8,
      "outputs": [
        {
          "output_type": "stream",
          "text": [
            "[1, 4, 5, 7, 6, 7, 7, 0]\n",
            "0\n",
            "1\n",
            "4\n",
            "6\n",
            "7\n",
            "The optimal cost is =  11\n"
          ],
          "name": "stdout"
        }
      ]
    }
  ]
}